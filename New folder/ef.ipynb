{
 "cells": [
  {
   "cell_type": "code",
   "execution_count": null,
   "metadata": {},
   "outputs": [],
   "source": [
    "import cv2 as cv\n",
    "\n",
    "import numpy as np\n",
    "\n",
    "\n",
    "img=np.zeros((512,512,3),np.uint8)\n",
    "\n",
    "\n",
    "cv.line(img,(0,0),(511,511),(255,0,0),5)\n",
    "\n",
    "cv.rectangle(img,(384,0),(510,128),(0,255,0),3)\n",
    "\n",
    "\n",
    "cv.circle(img,(447,63),63,(0,0,255),-1)\n",
    "\n",
    "\n",
    "cv.ellipse(img,(256,256),(100,50),0,0,180,255,-1)\n",
    "\n",
    "\n",
    "pts=np.array([[10,5],[20,30],[70,20],[50,10]],np.int32)\n",
    "\n",
    "pts=pts.reshape((-1,1,2))\n",
    "\n"
   ]
  }
 ],
 "metadata": {
  "language_info": {
   "name": "python"
  }
 },
 "nbformat": 4,
 "nbformat_minor": 2
}
